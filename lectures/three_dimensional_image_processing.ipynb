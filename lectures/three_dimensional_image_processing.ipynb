{
 "cells": [
  {
   "cell_type": "code",
   "execution_count": null,
   "metadata": {
    "collapsed": true
   },
   "outputs": [],
   "source": [
    "%matplotlib inline"
   ]
  },
  {
   "cell_type": "code",
   "execution_count": null,
   "metadata": {
    "collapsed": true
   },
   "outputs": [],
   "source": [
    "import matplotlib.cm\n",
    "import matplotlib.pyplot as plt\n",
    "import numpy as np\n",
    "import scipy.ndimage as ndi\n",
    "import scipy.stats\n",
    "import skimage.exposure\n",
    "import skimage.feature\n",
    "import skimage.filters\n",
    "import skimage.io\n",
    "import skimage.measure\n",
    "import skimage.morphology\n",
    "import skimage.restoration\n",
    "import skimage.segmentation"
   ]
  },
  {
   "cell_type": "markdown",
   "metadata": {},
   "source": [
    "# Introduction to three-dimensional image processing\n",
    "\n",
    "Blah blah blah.\n",
    "\n",
    "The `skimage` library represents images as `numpy` arrays. A single-channel, or grayscale, image is a 2D matrix of pixel intensities of shape `(row, column)`. We can construct a 3D volume as a series of 2D `planes`, giving 3D images the shape `(plane, row, column)`. Multichannel data adds a `channel` dimension in the final position containing color information. \n",
    "\n",
    "These conventions are summarized in the table below:\n",
    "\n",
    "\n",
    "|Image type|Coordinates|\n",
    "|:---|:---|\n",
    "|2D grayscale|(row, column)|\n",
    "|2D multichannel|(row, column, channel)|\n",
    "|3D grayscale|(plane, row, column)|\n",
    "|3D multichannel|(plane, row, column, channel)|\n",
    "\n",
    "Some 3D images are constructed with equal resolution in each dimension; e.g., a computer generated rendering of a sphere. Most experimental data captures one dimension at a lower resolution than the other two; e.g., photographing thin slices to approximate a 3D structure as a stack of 2D images. The distance between pixels in each dimension, called `spacing`, is encoded in a tuple and is accepted as a parameter by some `skimage` functions and can be used to adjust contributions to filters."
   ]
  },
  {
   "cell_type": "markdown",
   "metadata": {},
   "source": [
    "## Input/Output and display"
   ]
  },
  {
   "cell_type": "code",
   "execution_count": null,
   "metadata": {},
   "outputs": [],
   "source": [
    "data = skimage.io.imread(\"../images/cells.tif\")\n",
    "\n",
    "spacing = (0.2900000, 0.0650000, 0.0650000)\n",
    "\n",
    "print(\"shape: {}\".format(data.shape))\n",
    "print(\"dtype: {}\".format(data.dtype))"
   ]
  },
  {
   "cell_type": "code",
   "execution_count": null,
   "metadata": {},
   "outputs": [],
   "source": [
    "original_spacing = (0.2900000, 0.0650000, 0.0650000)\n",
    "\n",
    "spacing = tuple(np.divide(original_spacing, original_spacing[1]))\n",
    "\n",
    "print(\"spacing: {}\".format(spacing))"
   ]
  },
  {
   "cell_type": "code",
   "execution_count": null,
   "metadata": {},
   "outputs": [],
   "source": [
    "try:\n",
    "    skimage.io.imshow(data)\n",
    "except TypeError as e:\n",
    "    print(str(e))"
   ]
  },
  {
   "cell_type": "code",
   "execution_count": null,
   "metadata": {},
   "outputs": [],
   "source": [
    "skimage.io.imshow(data[32], cmap=\"gray\")"
   ]
  },
  {
   "cell_type": "code",
   "execution_count": null,
   "metadata": {},
   "outputs": [],
   "source": [
    "def display(im3d, cmap=\"gray\", step=2):\n",
    "    _, axes = plt.subplots(nrows=5, ncols=6, figsize=(16, 14))\n",
    "    \n",
    "    vmin = im3d.min()\n",
    "    vmax = im3d.max()\n",
    "    \n",
    "    for ax, image in zip(axes.flatten(), im3d[::step]):\n",
    "        ax.imshow(image, cmap=cmap, vmin=vmin, vmax=vmax)\n",
    "        ax.set_xticks([])\n",
    "        ax.set_yticks([])"
   ]
  },
  {
   "cell_type": "code",
   "execution_count": null,
   "metadata": {},
   "outputs": [],
   "source": [
    "display(data)"
   ]
  },
  {
   "cell_type": "code",
   "execution_count": null,
   "metadata": {},
   "outputs": [],
   "source": [
    "def show_plane(ax, plane, cmap=\"gray\", title=None):\n",
    "    ax.imshow(plane, cmap=cmap)\n",
    "    ax.set_xticks([])\n",
    "    ax.set_yticks([])\n",
    "    \n",
    "    if title:\n",
    "        ax.set_title(title)\n",
    "    \n",
    "def plot_hist(ax, data, title=None):\n",
    "    ax.hist(data.ravel(), bins=256)\n",
    "    ax.ticklabel_format(axis=\"y\", style=\"scientific\", scilimits=(0, 0))\n",
    "    \n",
    "    if title:\n",
    "        ax.set_title(title)"
   ]
  },
  {
   "cell_type": "markdown",
   "metadata": {},
   "source": [
    "## Exposure and color"
   ]
  },
  {
   "cell_type": "code",
   "execution_count": null,
   "metadata": {},
   "outputs": [],
   "source": [
    "gamma_low_val = 0.7\n",
    "gamma_low = skimage.exposure.adjust_gamma(data, gamma=gamma_low_val)\n",
    "\n",
    "gamma_high_val = 1.3\n",
    "gamma_high = skimage.exposure.adjust_gamma(data, gamma=gamma_high_val)\n",
    "\n",
    "log_val = 1\n",
    "log = skimage.exposure.adjust_log(data, gain=log_val)\n",
    "\n",
    "_, ((a, b, c, d), (f, g, h, i)) = plt.subplots(nrows=2, ncols=4, figsize=(16, 8))\n",
    "\n",
    "show_plane(a, data[32], title=\"Original\")\n",
    "show_plane(b, gamma_low[32], title=\"Gamma = {}\".format(gamma_low_val))\n",
    "show_plane(c, gamma_high[32], title=\"Gamma = {}\".format(gamma_high_val))\n",
    "show_plane(d, log[32], title=\"Log = {}\".format(log_val))\n",
    "\n",
    "plot_hist(f, data)\n",
    "plot_hist(g, gamma_low)\n",
    "plot_hist(h, gamma_high)\n",
    "plot_hist(i, gamma_high)"
   ]
  },
  {
   "cell_type": "code",
   "execution_count": null,
   "metadata": {},
   "outputs": [],
   "source": [
    "equalized = skimage.exposure.equalize_hist(data)\n",
    "\n",
    "display(equalized)\n",
    "\n",
    "_, ((a, b), (c, d)) = plt.subplots(nrows=2, ncols=2, figsize=(16, 8))\n",
    "\n",
    "plot_hist(a, data, title=\"Original\")\n",
    "plot_hist(b, equalized, title=\"Histogram equalization\")\n",
    "\n",
    "cdf, bins = skimage.exposure.cumulative_distribution(data.ravel())\n",
    "c.plot(bins, cdf, \"r\")\n",
    "c.set_title(\"Original CDF\")\n",
    "\n",
    "cdf, bins = skimage.exposure.cumulative_distribution(equalized.ravel())\n",
    "d.plot(bins, cdf, \"r\")\n",
    "d.set_title(\"Histogram equalization CDF\");"
   ]
  },
  {
   "cell_type": "code",
   "execution_count": null,
   "metadata": {},
   "outputs": [],
   "source": [
    "vmin, vmax = scipy.stats.scoreatpercentile(data, (0.5, 99.5))\n",
    "\n",
    "saturated = skimage.exposure.rescale_intensity(\n",
    "    data, \n",
    "    in_range=(vmin, vmax), \n",
    "    out_range=np.float32\n",
    ").astype(np.float32)\n",
    "\n",
    "display(saturated)"
   ]
  },
  {
   "cell_type": "code",
   "execution_count": null,
   "metadata": {
    "collapsed": true
   },
   "outputs": [],
   "source": [
    "rescaled = saturated"
   ]
  },
  {
   "cell_type": "markdown",
   "metadata": {},
   "source": [
    "## Filtering and edges"
   ]
  },
  {
   "cell_type": "code",
   "execution_count": null,
   "metadata": {},
   "outputs": [],
   "source": [
    "sobel = np.empty_like(rescaled)\n",
    "\n",
    "for plane, image in enumerate(rescaled):\n",
    "    sobel[plane] = skimage.filters.sobel(image)\n",
    "    \n",
    "display(sobel)"
   ]
  },
  {
   "cell_type": "code",
   "execution_count": null,
   "metadata": {},
   "outputs": [],
   "source": [
    "sigma = np.divide(3.0, spacing)\n",
    "\n",
    "gaussian = skimage.filters.gaussian(rescaled, multichannel=False, sigma=sigma)\n",
    "\n",
    "display(gaussian)"
   ]
  },
  {
   "cell_type": "code",
   "execution_count": null,
   "metadata": {},
   "outputs": [],
   "source": [
    "rescaled_uint8 = skimage.img_as_ubyte(rescaled)\n",
    "\n",
    "median = np.empty_like(rescaled_uint8)\n",
    "\n",
    "selem = skimage.morphology.square(3)\n",
    "\n",
    "for plane, image in enumerate(rescaled_uint8):\n",
    "    median[plane] = skimage.filters.median(image, selem=selem)\n",
    "    \n",
    "median = skimage.img_as_float(median)\n",
    "    \n",
    "display(median)"
   ]
  },
  {
   "cell_type": "code",
   "execution_count": null,
   "metadata": {},
   "outputs": [],
   "source": [
    "bilateral = np.empty_like(rescaled)\n",
    "\n",
    "for index, plane in enumerate(rescaled):\n",
    "    bilateral[index] = skimage.restoration.denoise_bilateral(\n",
    "        plane, \n",
    "        multichannel=False\n",
    "    )\n",
    "\n",
    "display(bilateral)"
   ]
  },
  {
   "cell_type": "code",
   "execution_count": null,
   "metadata": {},
   "outputs": [],
   "source": [
    "_, (a, b, c, d) = plt.subplots(nrows=1, ncols=4, figsize=(16, 4))\n",
    "\n",
    "show_plane(a, rescaled[32], title=\"Original\")\n",
    "show_plane(b, gaussian[32], title=\"Gaussian\")\n",
    "show_plane(c, median[32], title=\"Median\")\n",
    "show_plane(d, bilateral[32], title=\"Bilateral\")"
   ]
  },
  {
   "cell_type": "code",
   "execution_count": null,
   "metadata": {
    "collapsed": true
   },
   "outputs": [],
   "source": [
    "denoised = bilateral"
   ]
  },
  {
   "cell_type": "code",
   "execution_count": null,
   "metadata": {},
   "outputs": [],
   "source": [
    "threshold_li = skimage.filters.threshold_li(denoised)\n",
    "li = denoised >= threshold_li\n",
    "\n",
    "threshold_otsu = skimage.filters.threshold_otsu(denoised)\n",
    "otsu = denoised >= threshold_otsu\n",
    "\n",
    "_, (a, b, c) = plt.subplots(nrows=1, ncols=3, figsize=(16, 4))\n",
    "\n",
    "plot_hist(a, denoised, \"Thresholds (Li: red, Otsu: blue)\")\n",
    "a.axvline(threshold_li, c=\"r\")\n",
    "a.axvline(threshold_otsu, c=\"b\")\n",
    "\n",
    "show_plane(b, li[32], title=\"Li's threshold = {:0.3f}\".format(threshold_li))\n",
    "show_plane(c, otsu[32], title=\"Otsu's threshold = {:0.3f}\".format(threshold_otsu))"
   ]
  },
  {
   "cell_type": "code",
   "execution_count": null,
   "metadata": {},
   "outputs": [],
   "source": [
    "binary = li\n",
    "\n",
    "display(binary)"
   ]
  },
  {
   "cell_type": "markdown",
   "metadata": {},
   "source": [
    "## Morphological operations"
   ]
  },
  {
   "cell_type": "code",
   "execution_count": null,
   "metadata": {},
   "outputs": [],
   "source": [
    "ball = skimage.morphology.ball(5)\n",
    "print(\"ball shape: {}\".format(ball.shape))\n",
    "\n",
    "cube = skimage.morphology.cube(5)\n",
    "print(\"cube shape: {}\".format(cube.shape))"
   ]
  },
  {
   "cell_type": "code",
   "execution_count": null,
   "metadata": {},
   "outputs": [],
   "source": [
    "closing = np.empty_like(rescaled)\n",
    "dilation = np.empty_like(rescaled)\n",
    "erosion = np.empty_like(rescaled)\n",
    "opening = np.empty_like(rescaled)\n",
    "\n",
    "binary_closing = np.empty_like(binary)\n",
    "binary_dilation = np.empty_like(binary)\n",
    "binary_erosion = np.empty_like(binary)\n",
    "binary_opening = np.empty_like(binary)\n",
    "\n",
    "selem = skimage.morphology.disk(3)\n",
    "\n",
    "for plane, (image, binary_image) in enumerate(zip(rescaled, binary)):\n",
    "    closing[plane] = skimage.morphology.closing(image, selem)\n",
    "    dilation[plane] = skimage.morphology.dilation(image, selem)\n",
    "    erosion[plane] = skimage.morphology.erosion(image, selem)\n",
    "    opening[plane] = skimage.morphology.opening(image, selem)\n",
    "    \n",
    "    binary_closing[plane] = skimage.morphology.binary_closing(binary_image, selem)\n",
    "    binary_dilation[plane] = skimage.morphology.binary_dilation(binary_image, selem)\n",
    "    binary_erosion[plane] = skimage.morphology.binary_erosion(binary_image, selem)\n",
    "    binary_opening[plane] = skimage.morphology.binary_opening(binary_image, selem)\n",
    "    \n",
    "_, ((a, b, c, d), (e, f, g, h)) = plt.subplots(nrows=2, ncols=4, figsize=(16, 8))\n",
    "\n",
    "show_plane(a, closing[32], title=\"Closing\")\n",
    "show_plane(b, opening[32], title=\"Opening\")\n",
    "show_plane(c, erosion[32], title=\"Erosion\")\n",
    "show_plane(d, dilation[32], title=\"Dilation\")\n",
    "\n",
    "show_plane(e, binary_closing[32], title=\"Binary closing\")\n",
    "show_plane(f, binary_opening[32], title=\"Binary opening\")\n",
    "show_plane(g, binary_erosion[32], title=\"Binary erosion\")\n",
    "show_plane(h, binary_dilation[32], title=\"Binary dilation\")"
   ]
  },
  {
   "cell_type": "code",
   "execution_count": null,
   "metadata": {},
   "outputs": [],
   "source": [
    "a = 20\n",
    "\n",
    "remove_holes = skimage.morphology.remove_small_holes(\n",
    "    binary, \n",
    "    min_size=np.product(np.divide(a, spacing))\n",
    ")\n",
    "\n",
    "display(remove_holes)"
   ]
  },
  {
   "cell_type": "code",
   "execution_count": null,
   "metadata": {},
   "outputs": [],
   "source": [
    "a = 40\n",
    "\n",
    "remove_objects = skimage.morphology.remove_small_objects(\n",
    "    remove_holes, \n",
    "    min_size=np.product(np.divide(a, spacing))\n",
    ")\n",
    "\n",
    "display(remove_objects)"
   ]
  },
  {
   "cell_type": "markdown",
   "metadata": {},
   "source": [
    "## Segmentation"
   ]
  },
  {
   "cell_type": "code",
   "execution_count": null,
   "metadata": {
    "collapsed": true
   },
   "outputs": [],
   "source": [
    "def get_cmap(labels, name=\"viridis\"):\n",
    "    cmap = matplotlib.cm.get_cmap(\"viridis\")\n",
    "    masked_labels = np.ma.masked_where(labels == 0, labels)\n",
    "    cmap.set_bad(color=\"black\")\n",
    "    \n",
    "    return masked_labels, cmap"
   ]
  },
  {
   "cell_type": "code",
   "execution_count": null,
   "metadata": {},
   "outputs": [],
   "source": [
    "labels = skimage.measure.label(remove_objects)\n",
    "\n",
    "masked_labels, cmap = get_cmap(labels)\n",
    "\n",
    "display(masked_labels, cmap=cmap)"
   ]
  },
  {
   "cell_type": "code",
   "execution_count": null,
   "metadata": {},
   "outputs": [],
   "source": [
    "_, (a, b, c) = plt.subplots(nrows=1, ncols=3, figsize=(16, 4))\n",
    "\n",
    "show_plane(a, rescaled[32, :100, 125:], title=\"Rescaled\")\n",
    "show_plane(b, masked_labels[32, :100, 125:], cmap=cmap, title=\"Labels\")\n",
    "show_plane(c, labels[32, :100, 125:] == 8, title=\"Labels = 8\")"
   ]
  },
  {
   "cell_type": "code",
   "execution_count": null,
   "metadata": {},
   "outputs": [],
   "source": [
    "distance = ndi.distance_transform_edt(remove_objects)\n",
    "\n",
    "peak_local_max = skimage.feature.peak_local_max(\n",
    "    distance,\n",
    "    footprint=np.ones((15, 15, 15), dtype=np.bool),\n",
    "    indices=False,\n",
    "    labels=skimage.measure.label(remove_objects)\n",
    ")\n",
    "\n",
    "markers = skimage.measure.label(peak_local_max)\n",
    "\n",
    "labels = skimage.morphology.watershed(\n",
    "    -rescaled, \n",
    "    markers, \n",
    "    mask=remove_objects\n",
    ")\n",
    "\n",
    "masked_labels, cmap = get_cmap(labels)\n",
    "\n",
    "display(masked_labels, cmap=cmap)"
   ]
  },
  {
   "cell_type": "code",
   "execution_count": null,
   "metadata": {},
   "outputs": [],
   "source": [
    "_, ((a, b, c), (d, e, f)) = plt.subplots(nrows=2, ncols=3, figsize=(16, 8))\n",
    "\n",
    "show_plane(a, masked_labels[32, :100, 125:], cmap=cmap, title=\"Labels\")\n",
    "show_plane(b, labels[32, :100, 125:] == 20, title=\"Labels = 20\")\n",
    "show_plane(c, labels[32, :100, 125:] == 21, title=\"Labels = 21\")\n",
    "\n",
    "show_plane(d, masked_labels[32, 75:175, 125:], cmap=cmap, title=\"Labels\")\n",
    "show_plane(e, labels[32, 75:175, 125:] == 13, title=\"Labels = 13\")\n",
    "show_plane(f, labels[32, 75:175, 125:] == 14, title=\"Labels = 14\")"
   ]
  },
  {
   "cell_type": "code",
   "execution_count": null,
   "metadata": {},
   "outputs": [],
   "source": [
    "_, (a, b, c) = plt.subplots(nrows=1, ncols=3, figsize=(16, 8))\n",
    "\n",
    "show_plane(a, masked_labels[32, 156:, 20:150], cmap=cmap)\n",
    "show_plane(b, masked_labels[34, 90:190, 126:], cmap=cmap)\n",
    "show_plane(c, masked_labels[32, 150:, 118:248], cmap=cmap)"
   ]
  },
  {
   "cell_type": "code",
   "execution_count": null,
   "metadata": {},
   "outputs": [],
   "source": [
    "_, axes = plt.subplots(nrows=3, ncols=4, figsize=(16, 12))\n",
    "\n",
    "vmin = distance.min()\n",
    "vmax = distance.max()\n",
    "\n",
    "for index, ax in enumerate(axes.flatten()):\n",
    "    ax.imshow(\n",
    "        -distance[31 + index],\n",
    "        cmap=\"gray\",\n",
    "        vmin=-vmax,\n",
    "        vmax=-vmin\n",
    "    )\n",
    "    \n",
    "    peaks = np.nonzero(peak_local_max[31 + index])\n",
    "    \n",
    "    ax.plot(peaks[1], peaks[0], \"r.\")\n",
    "    ax.set_xticks([])\n",
    "    ax.set_yticks([])"
   ]
  },
  {
   "cell_type": "markdown",
   "metadata": {},
   "source": [
    "## Feature extraction"
   ]
  },
  {
   "cell_type": "code",
   "execution_count": null,
   "metadata": {},
   "outputs": [],
   "source": [
    "interior_labels = skimage.segmentation.clear_border(labels)\n",
    "\n",
    "masked_labels, cmap = get_cmap(interior_labels)\n",
    "\n",
    "print(\"interior labels: {}\".format(np.unique(interior_labels)))\n",
    "\n",
    "display(masked_labels, cmap=cmap)"
   ]
  },
  {
   "cell_type": "code",
   "execution_count": null,
   "metadata": {},
   "outputs": [],
   "source": [
    "relabeled, _, _ = skimage.segmentation.relabel_sequential(interior_labels)\n",
    "\n",
    "print(\"relabeled labels: {}\".format(np.unique(relabeled)))"
   ]
  },
  {
   "cell_type": "code",
   "execution_count": null,
   "metadata": {},
   "outputs": [],
   "source": [
    "regionprops = skimage.measure.regionprops(relabeled, intensity_image=data)\n",
    "\n",
    "supported = [] \n",
    "unsupported = []\n",
    "\n",
    "for prop in regionprops[0]:\n",
    "    try:\n",
    "        regionprops[0][prop]\n",
    "        supported.append(prop)\n",
    "    except NotImplementedError:\n",
    "        unsupported.append(prop)\n",
    "\n",
    "print(\"Supported properties:\")\n",
    "print(\"  \" + \"\\n  \".join(supported))\n",
    "print()\n",
    "print(\"Unsupported properties:\")\n",
    "print(\"  \" + \"\\n  \".join(unsupported))"
   ]
  },
  {
   "cell_type": "code",
   "execution_count": null,
   "metadata": {},
   "outputs": [],
   "source": [
    "print(\"measured regions: {}\".format(len(regionprops)))"
   ]
  },
  {
   "cell_type": "code",
   "execution_count": null,
   "metadata": {},
   "outputs": [],
   "source": [
    "area = [regionprop.area for regionprop in regionprops]\n",
    "\n",
    "print(\"area: {}\".format(area))"
   ]
  },
  {
   "cell_type": "code",
   "execution_count": null,
   "metadata": {},
   "outputs": [],
   "source": [
    "min_plane, min_row, min_col, max_plane, max_row, max_col = regionprops[3].bbox\n",
    "\n",
    "bbox_img = data[min_plane:max_plane, min_row:max_row, min_col:max_col]\n",
    "\n",
    "print(\"bounded image shape: {}\".format(bbox_img.shape))\n",
    "\n",
    "display(bbox_img, step=1)"
   ]
  },
  {
   "cell_type": "code",
   "execution_count": null,
   "metadata": {
    "collapsed": true
   },
   "outputs": [],
   "source": []
  }
 ],
 "metadata": {
  "kernelspec": {
   "display_name": "Python 3",
   "language": "python",
   "name": "python3"
  },
  "language_info": {
   "codemirror_mode": {
    "name": "ipython",
    "version": 3
   },
   "file_extension": ".py",
   "mimetype": "text/x-python",
   "name": "python",
   "nbconvert_exporter": "python",
   "pygments_lexer": "ipython3",
   "version": "3.6.1"
  }
 },
 "nbformat": 4,
 "nbformat_minor": 2
}
